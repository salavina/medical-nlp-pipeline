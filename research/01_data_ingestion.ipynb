{
 "cells": [
  {
   "cell_type": "code",
   "execution_count": 74,
   "metadata": {},
   "outputs": [
    {
     "data": {
      "text/plain": [
       "'/home/milad/projects/medical-nlp-pipeline'"
      ]
     },
     "execution_count": 74,
     "metadata": {},
     "output_type": "execute_result"
    }
   ],
   "source": [
    "%pwd"
   ]
  },
  {
   "cell_type": "code",
   "execution_count": 69,
   "metadata": {},
   "outputs": [],
   "source": [
    "import os\n",
    "os.chdir('../')"
   ]
  },
  {
   "cell_type": "code",
   "execution_count": 3,
   "metadata": {},
   "outputs": [
    {
     "data": {
      "text/plain": [
       "'/home/milad/projects/medical-nlp-pipeline'"
      ]
     },
     "execution_count": 3,
     "metadata": {},
     "output_type": "execute_result"
    }
   ],
   "source": [
    "%pwd"
   ]
  },
  {
   "cell_type": "code",
   "execution_count": null,
   "metadata": {},
   "outputs": [],
   "source": [
    "# import opendatasets as od\n",
    "\n",
    "# # Assign the Kaggle data set URL into variable\n",
    "# dataset = 'https://www.kaggle.com/datasets/prasad22/ca-independent-medical-review'\n",
    "# # Using opendatasets let's download the data sets\n",
    "# od.download(dataset)"
   ]
  },
  {
   "cell_type": "code",
   "execution_count": 4,
   "metadata": {},
   "outputs": [],
   "source": [
    "from dataclasses import dataclass\n",
    "from pathlib import Path\n",
    "\n",
    "# specifies the type of value related to the key in yaml file\n",
    "@dataclass(frozen=True)\n",
    "class DataIngestionConfig:\n",
    "    root_dir: Path\n",
    "    source_URL: str"
   ]
  },
  {
   "cell_type": "code",
   "execution_count": 5,
   "metadata": {},
   "outputs": [],
   "source": [
    "from medical_nlp.constants import *\n",
    "from medical_nlp.utils.common import read_yaml, create_directories"
   ]
  },
  {
   "cell_type": "code",
   "execution_count": 6,
   "metadata": {},
   "outputs": [],
   "source": [
    "class configurationManager:\n",
    "    def __init__(self, config_file_path = CONFIG_FILE_PATH,\n",
    "                 params_file_path = PARAMS_FILE_PATH):\n",
    "        self.config = read_yaml(config_file_path)\n",
    "        self.params = read_yaml(params_file_path)\n",
    "        \n",
    "        create_directories([self.config.artifacts_root])\n",
    "        \n",
    "    def get_data_ingestion_config(self) -> DataIngestionConfig:\n",
    "        config = self.config.data_ingestion\n",
    "        \n",
    "        create_directories([config.root_dir])\n",
    "        \n",
    "        data_ingestion_config = DataIngestionConfig(\n",
    "            root_dir = config.root_dir,\n",
    "            source_URL = config.source_URL\n",
    "        )\n",
    "        \n",
    "        return data_ingestion_config"
   ]
  },
  {
   "cell_type": "code",
   "execution_count": 60,
   "metadata": {},
   "outputs": [],
   "source": [
    "import opendatasets as od\n",
    "from medical_nlp import logger\n",
    "from medical_nlp.utils.common import get_size\n",
    "import os\n",
    "import shutil\n",
    "import pandas as pd\n",
    "import glob"
   ]
  },
  {
   "cell_type": "code",
   "execution_count": 73,
   "metadata": {},
   "outputs": [],
   "source": [
    "class DataIngestion():\n",
    "    def __init__(self, config: DataIngestionConfig):\n",
    "        self.config = config\n",
    "    \n",
    "    def download_file(self) -> str:\n",
    "        \n",
    "        try:\n",
    "            file_name = 'kaggle.json'\n",
    "            dataset_url = self.config.source_URL\n",
    "            # Check if the folder path exists\n",
    "            files_in_folder = os.listdir(self.config.root_dir)\n",
    "            \n",
    "            # Check if the specified file exists in the folder\n",
    "            if file_name not in files_in_folder:\n",
    "                shutil.copy(os.path.join('research/', file_name), self.config.root_dir)\n",
    "            logger.info(f\"Downloading data from {dataset_url} to {str(self.config.root_dir)}\")\n",
    "            os.chdir(self.config.root_dir)\n",
    "            od.download(dataset_url)\n",
    "            logger.info(f\"Downloaded data from {dataset_url} to {str(self.config.root_dir)}\")\n",
    "            os.chdir('../../')\n",
    "            csv_files = glob.glob(str(self.config.root_dir) + '/' +  dataset_url.split('/')[-1] + '/' + '*.csv')\n",
    "            base_file = [file for file in csv_files if 'Custom' not in os.path.basename(file)][0]\n",
    "            df = pd.read_csv(base_file)\n",
    "            df_customzied = df[['Findings', 'Type']]\n",
    "            df_customzied.to_csv(str(self.config.root_dir) + '/' +  dataset_url.split('/')[-1] + '/' + os.path.basename(base_file).split('.')[0] + '_Custom.csv' ,index=False)\n",
    "            logger.info(f\"Saved custom dataset to {str(self.config.root_dir) +  dataset_url.split('/')[-1]}\")\n",
    "        \n",
    "        except Exception as e:\n",
    "            raise e"
   ]
  },
  {
   "cell_type": "code",
   "execution_count": 76,
   "metadata": {},
   "outputs": [
    {
     "name": "stdout",
     "output_type": "stream",
     "text": [
      "[2024-05-06 04:05:12,452: INFO: common: yaml file: config/config.yaml loaded successfully]\n",
      "[2024-05-06 04:05:12,454: INFO: common: yaml file: params.yaml loaded successfully]\n",
      "[2024-05-06 04:05:12,455: INFO: common: created directory at: artifacts]\n",
      "[2024-05-06 04:05:12,456: INFO: common: created directory at: artifacts/data_ingestion]\n",
      "[2024-05-06 04:05:12,457: INFO: 1556454531: Downloading data from https://www.kaggle.com/datasets/prasad22/ca-independent-medical-review to artifacts/data_ingestion]\n",
      "Skipping, found downloaded files in \"./ca-independent-medical-review\" (use force=True to force download)\n",
      "[2024-05-06 04:05:12,459: INFO: 1556454531: Downloaded data from https://www.kaggle.com/datasets/prasad22/ca-independent-medical-review to artifacts/data_ingestion]\n",
      "[2024-05-06 04:05:13,155: INFO: 1556454531: Saved custom dataset to artifacts/data_ingestionca-independent-medical-review]\n"
     ]
    }
   ],
   "source": [
    "# update the pipeline\n",
    "try:\n",
    "    config = configurationManager()\n",
    "    data_ingestion_config = config.get_data_ingestion_config()\n",
    "    data_ingestion = DataIngestion(config=data_ingestion_config)\n",
    "    data_ingestion.download_file()\n",
    "except Exception as e:\n",
    "    raise e"
   ]
  }
 ],
 "metadata": {
  "kernelspec": {
   "display_name": "medical",
   "language": "python",
   "name": "python3"
  },
  "language_info": {
   "codemirror_mode": {
    "name": "ipython",
    "version": 3
   },
   "file_extension": ".py",
   "mimetype": "text/x-python",
   "name": "python",
   "nbconvert_exporter": "python",
   "pygments_lexer": "ipython3",
   "version": "3.9.19"
  }
 },
 "nbformat": 4,
 "nbformat_minor": 2
}
